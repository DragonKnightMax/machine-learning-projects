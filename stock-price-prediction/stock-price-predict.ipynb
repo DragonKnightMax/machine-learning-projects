{
 "cells": [
  {
   "cell_type": "markdown",
   "metadata": {},
   "source": [
    "# Stock Price Prediction\n",
    "\n",
    "- Recurrent Neural Network (RNN)\n",
    "- Long short-term Memory (LSTM)\n",
    "\n",
    "## Importing libraries"
   ]
  },
  {
   "cell_type": "code",
   "execution_count": 9,
   "metadata": {},
   "outputs": [],
   "source": [
    "import pandas as pd\n",
    "import numpy as np\n",
    "import matplotlib.pyplot as plt\n",
    "\n",
    "import matplotlib\n",
    "import sklearn\n",
    "import keras\n",
    "\n",
    "from sklearn.preprocessing import MinMaxScaler\n",
    "from keras.models import Sequential, load_model\n",
    "from keras.layers import LSTM, Dense, Dropout"
   ]
  },
  {
   "cell_type": "markdown",
   "metadata": {},
   "source": [
    "## Versions of Libraries"
   ]
  },
  {
   "cell_type": "code",
   "execution_count": 10,
   "metadata": {},
   "outputs": [
    {
     "name": "stdout",
     "output_type": "stream",
     "text": [
      "Python: 3.8.5 (tags/v3.8.5:580fbb0, Jul 20 2020, 15:57:54) [MSC v.1924 64 bit (AMD64)]\n",
      "numpy: 1.18.5\n",
      "matplotlib: 3.3.1\n",
      "pandas: 1.1.1\n",
      "sklearn: 0.23.2\n",
      "keras: 2.7.0\n"
     ]
    }
   ],
   "source": [
    "# Python version\n",
    "import sys\n",
    "print('Python: {}'.format(sys.version))\n",
    "\n",
    "# numpy\n",
    "print('numpy: {}'.format(np.__version__))\n",
    "\n",
    "# matplotlib\n",
    "print('matplotlib: {}'.format(matplotlib.__version__))\n",
    "\n",
    "# pandas\n",
    "print('pandas: {}'.format(pd.__version__))\n",
    "\n",
    "# scikit-learn\n",
    "print('sklearn: {}'.format(sklearn.__version__))\n",
    "\n",
    "# keras\n",
    "print('keras: {}'.format(keras.__version__))"
   ]
  },
  {
   "cell_type": "markdown",
   "metadata": {},
   "source": [
    "## Choosing Data\n",
    "\n",
    "Yahoo Finance"
   ]
  },
  {
   "cell_type": "markdown",
   "metadata": {},
   "source": [
    "## Loading data"
   ]
  },
  {
   "cell_type": "code",
   "execution_count": 11,
   "metadata": {},
   "outputs": [
    {
     "data": {
      "text/html": [
       "<div>\n",
       "<style scoped>\n",
       "    .dataframe tbody tr th:only-of-type {\n",
       "        vertical-align: middle;\n",
       "    }\n",
       "\n",
       "    .dataframe tbody tr th {\n",
       "        vertical-align: top;\n",
       "    }\n",
       "\n",
       "    .dataframe thead th {\n",
       "        text-align: right;\n",
       "    }\n",
       "</style>\n",
       "<table border=\"1\" class=\"dataframe\">\n",
       "  <thead>\n",
       "    <tr style=\"text-align: right;\">\n",
       "      <th></th>\n",
       "      <th>Date</th>\n",
       "      <th>Open</th>\n",
       "      <th>High</th>\n",
       "      <th>Low</th>\n",
       "      <th>Close</th>\n",
       "      <th>Adj Close</th>\n",
       "      <th>Volume</th>\n",
       "    </tr>\n",
       "  </thead>\n",
       "  <tbody>\n",
       "    <tr>\n",
       "      <th>0</th>\n",
       "      <td>2010-07-01</td>\n",
       "      <td>5.000</td>\n",
       "      <td>5.184</td>\n",
       "      <td>4.054</td>\n",
       "      <td>4.392</td>\n",
       "      <td>4.392</td>\n",
       "      <td>41094000</td>\n",
       "    </tr>\n",
       "    <tr>\n",
       "      <th>1</th>\n",
       "      <td>2010-07-02</td>\n",
       "      <td>4.600</td>\n",
       "      <td>4.620</td>\n",
       "      <td>3.742</td>\n",
       "      <td>3.840</td>\n",
       "      <td>3.840</td>\n",
       "      <td>25699000</td>\n",
       "    </tr>\n",
       "    <tr>\n",
       "      <th>2</th>\n",
       "      <td>2010-07-06</td>\n",
       "      <td>4.000</td>\n",
       "      <td>4.000</td>\n",
       "      <td>3.166</td>\n",
       "      <td>3.222</td>\n",
       "      <td>3.222</td>\n",
       "      <td>34334500</td>\n",
       "    </tr>\n",
       "    <tr>\n",
       "      <th>3</th>\n",
       "      <td>2010-07-07</td>\n",
       "      <td>3.280</td>\n",
       "      <td>3.326</td>\n",
       "      <td>2.996</td>\n",
       "      <td>3.160</td>\n",
       "      <td>3.160</td>\n",
       "      <td>34608500</td>\n",
       "    </tr>\n",
       "    <tr>\n",
       "      <th>4</th>\n",
       "      <td>2010-07-08</td>\n",
       "      <td>3.228</td>\n",
       "      <td>3.504</td>\n",
       "      <td>3.114</td>\n",
       "      <td>3.492</td>\n",
       "      <td>3.492</td>\n",
       "      <td>38557000</td>\n",
       "    </tr>\n",
       "  </tbody>\n",
       "</table>\n",
       "</div>"
      ],
      "text/plain": [
       "         Date   Open   High    Low  Close  Adj Close    Volume\n",
       "0  2010-07-01  5.000  5.184  4.054  4.392      4.392  41094000\n",
       "1  2010-07-02  4.600  4.620  3.742  3.840      3.840  25699000\n",
       "2  2010-07-06  4.000  4.000  3.166  3.222      3.222  34334500\n",
       "3  2010-07-07  3.280  3.326  2.996  3.160      3.160  34608500\n",
       "4  2010-07-08  3.228  3.504  3.114  3.492      3.492  38557000"
      ]
     },
     "execution_count": 11,
     "metadata": {},
     "output_type": "execute_result"
    }
   ],
   "source": [
    "df = pd.read_csv('TSLA.csv')\n",
    "df.head()"
   ]
  },
  {
   "cell_type": "markdown",
   "metadata": {},
   "source": [
    "## Feature Extraction"
   ]
  },
  {
   "cell_type": "code",
   "execution_count": 12,
   "metadata": {},
   "outputs": [
    {
     "data": {
      "text/plain": [
       "(2392, 7)"
      ]
     },
     "execution_count": 12,
     "metadata": {},
     "output_type": "execute_result"
    }
   ],
   "source": [
    "df.shape"
   ]
  },
  {
   "cell_type": "markdown",
   "metadata": {},
   "source": [
    "Use one variable which is the “open” price."
   ]
  },
  {
   "cell_type": "code",
   "execution_count": 13,
   "metadata": {},
   "outputs": [
    {
     "data": {
      "text/plain": [
       "array([[ 5.      ],\n",
       "       [ 4.6     ],\n",
       "       [ 4.      ],\n",
       "       ...,\n",
       "       [87.      ],\n",
       "       [85.758003],\n",
       "       [81.      ]])"
      ]
     },
     "execution_count": 13,
     "metadata": {},
     "output_type": "execute_result"
    }
   ],
   "source": [
    "df = df['Open'].values\n",
    "df = df.reshape(-1, 1)\n",
    "\n",
    "df"
   ]
  },
  {
   "cell_type": "markdown",
   "metadata": {},
   "source": [
    "split the data into training and testing sets"
   ]
  },
  {
   "cell_type": "code",
   "execution_count": 14,
   "metadata": {},
   "outputs": [],
   "source": [
    "dataset_train = np.array(df[:int(df.shape[0]*0.8)])\n",
    "dataset_test = np.array(df[int(df.shape[0]*0.8):])"
   ]
  },
  {
   "cell_type": "markdown",
   "metadata": {},
   "source": [
    "MinMaxScaler to scale our data between zero and one. "
   ]
  },
  {
   "cell_type": "code",
   "execution_count": 15,
   "metadata": {},
   "outputs": [],
   "source": [
    "scaler = MinMaxScaler(feature_range=(0,1))\n",
    "dataset_train = scaler.fit_transform(dataset_train)\n",
    "dataset_test = scaler.transform(dataset_test)"
   ]
  },
  {
   "cell_type": "code",
   "execution_count": 18,
   "metadata": {},
   "outputs": [],
   "source": [
    "# Helper function to create dataset\n",
    "\n",
    "def create_dataset(df):\n",
    "    x = []\n",
    "    y = []\n",
    "    for i in range(50, df.shape[0]):\n",
    "        x.append(df[i-50:i, 0])\n",
    "        y.append(df[i, 0])\n",
    "    x = np.array(x)\n",
    "    y = np.array(y)\n",
    "    return x,y"
   ]
  },
  {
   "cell_type": "markdown",
   "metadata": {},
   "source": [
    "For the features (x), we will always append the last 50 prices  \n",
    "for the label (y), we will append the next price.   \n",
    "Then we will use numpy to convert it into an array."
   ]
  },
  {
   "cell_type": "code",
   "execution_count": 19,
   "metadata": {},
   "outputs": [],
   "source": [
    "x_train, y_train = create_dataset(dataset_train)\n",
    "x_test, y_test = create_dataset(dataset_test)"
   ]
  },
  {
   "cell_type": "markdown",
   "metadata": {},
   "source": [
    "Next, we need to reshape our data to make it a 3D array in order to use it in LSTM Layer."
   ]
  },
  {
   "cell_type": "code",
   "execution_count": 20,
   "metadata": {},
   "outputs": [],
   "source": [
    "x_train = np.reshape(x_train, (x_train.shape[0], x_train.shape[1], 1))\n",
    "x_test = np.reshape(x_test, (x_test.shape[0], x_test.shape[1], 1))"
   ]
  },
  {
   "cell_type": "markdown",
   "metadata": {},
   "source": [
    "## Model Building"
   ]
  },
  {
   "cell_type": "code",
   "execution_count": 21,
   "metadata": {},
   "outputs": [],
   "source": [
    "model = Sequential()\n",
    "model.add(LSTM(units=96, return_sequences=True, input_shape=(x_train.shape[1], 1)))\n",
    "model.add(Dropout(0.2))\n",
    "model.add(LSTM(units=96,return_sequences=True))\n",
    "model.add(Dropout(0.2))\n",
    "model.add(LSTM(units=96,return_sequences=True))\n",
    "model.add(Dropout(0.2))\n",
    "model.add(LSTM(units=96))\n",
    "model.add(Dropout(0.2))\n",
    "model.add(Dense(units=1))"
   ]
  },
  {
   "cell_type": "markdown",
   "metadata": {},
   "source": [
    "First, we initialized our model as a sequential one with 96 units in the output’s dimensionality. We used return_sequences=True to make the LSTM layer with three-dimensional input and input_shape to shape our dataset.\n",
    "\n",
    "Making the dropout fraction 0.2 drops 20% of the layers. Finally, we added a dense layer with a value of 1 because we want to output one value.\n",
    "\n",
    "After that, we want to reshape our feature for the LSTM layer, because it is sequential_3 which is expecting 3 dimensions, not 2:\n",
    "\n"
   ]
  },
  {
   "cell_type": "code",
   "execution_count": 22,
   "metadata": {},
   "outputs": [],
   "source": [
    "x_train = np.reshape(x_train, (x_train.shape[0], x_train.shape[1], 1))\n",
    "x_test = np.reshape(x_test, (x_test.shape[0], x_test.shape[1], 1))"
   ]
  },
  {
   "cell_type": "markdown",
   "metadata": {},
   "source": [
    "## Compile Model"
   ]
  },
  {
   "cell_type": "code",
   "execution_count": 23,
   "metadata": {},
   "outputs": [],
   "source": [
    "model.compile(loss='mean_squared_error', optimizer='adam')"
   ]
  },
  {
   "cell_type": "markdown",
   "metadata": {},
   "source": [
    "We used loss='mean_squared_error' because it is a regression problem, and the adam optimizer to update network weights iteratively based on training data."
   ]
  },
  {
   "cell_type": "markdown",
   "metadata": {},
   "source": [
    "## Start Training Model and Save It"
   ]
  },
  {
   "cell_type": "code",
   "execution_count": 24,
   "metadata": {},
   "outputs": [
    {
     "name": "stdout",
     "output_type": "stream",
     "text": [
      "Epoch 1/50\n",
      "59/59 [==============================] - 18s 120ms/step - loss: 0.0206\n",
      "Epoch 2/50\n",
      "59/59 [==============================] - 6s 108ms/step - loss: 0.0035\n",
      "Epoch 3/50\n",
      "59/59 [==============================] - 6s 107ms/step - loss: 0.0033\n",
      "Epoch 4/50\n",
      "59/59 [==============================] - 6s 109ms/step - loss: 0.0028\n",
      "Epoch 5/50\n",
      "59/59 [==============================] - 6s 97ms/step - loss: 0.0028\n",
      "Epoch 6/50\n",
      "59/59 [==============================] - 6s 96ms/step - loss: 0.0028\n",
      "Epoch 7/50\n",
      "59/59 [==============================] - 6s 94ms/step - loss: 0.0026\n",
      "Epoch 8/50\n",
      "59/59 [==============================] - 6s 97ms/step - loss: 0.0023\n",
      "Epoch 9/50\n",
      "59/59 [==============================] - 6s 94ms/step - loss: 0.0029\n",
      "Epoch 10/50\n",
      "59/59 [==============================] - 6s 93ms/step - loss: 0.0025\n",
      "Epoch 11/50\n",
      "59/59 [==============================] - 5s 90ms/step - loss: 0.0026\n",
      "Epoch 12/50\n",
      "59/59 [==============================] - 5s 91ms/step - loss: 0.0024\n",
      "Epoch 13/50\n",
      "59/59 [==============================] - 5s 91ms/step - loss: 0.0027\n",
      "Epoch 14/50\n",
      "59/59 [==============================] - 5s 91ms/step - loss: 0.0020\n",
      "Epoch 15/50\n",
      "59/59 [==============================] - 5s 91ms/step - loss: 0.0018\n",
      "Epoch 16/50\n",
      "59/59 [==============================] - 5s 90ms/step - loss: 0.0020\n",
      "Epoch 17/50\n",
      "59/59 [==============================] - 5s 91ms/step - loss: 0.0017\n",
      "Epoch 18/50\n",
      "59/59 [==============================] - 5s 91ms/step - loss: 0.0017\n",
      "Epoch 19/50\n",
      "59/59 [==============================] - 5s 91ms/step - loss: 0.0017\n",
      "Epoch 20/50\n",
      "59/59 [==============================] - 5s 91ms/step - loss: 0.0018\n",
      "Epoch 21/50\n",
      "59/59 [==============================] - 5s 91ms/step - loss: 0.0017\n",
      "Epoch 22/50\n",
      "59/59 [==============================] - 5s 91ms/step - loss: 0.0017\n",
      "Epoch 23/50\n",
      "59/59 [==============================] - 5s 91ms/step - loss: 0.0017\n",
      "Epoch 24/50\n",
      "59/59 [==============================] - 5s 91ms/step - loss: 0.0015\n",
      "Epoch 25/50\n",
      "59/59 [==============================] - 5s 91ms/step - loss: 0.0015\n",
      "Epoch 26/50\n",
      "59/59 [==============================] - 5s 90ms/step - loss: 0.0014\n",
      "Epoch 27/50\n",
      "59/59 [==============================] - 5s 91ms/step - loss: 0.0018\n",
      "Epoch 28/50\n",
      "59/59 [==============================] - 6s 98ms/step - loss: 0.0013\n",
      "Epoch 29/50\n",
      "59/59 [==============================] - 5s 91ms/step - loss: 0.0014\n",
      "Epoch 30/50\n",
      "59/59 [==============================] - 5s 91ms/step - loss: 0.0014\n",
      "Epoch 31/50\n",
      "59/59 [==============================] - 6s 94ms/step - loss: 0.0016\n",
      "Epoch 32/50\n",
      "59/59 [==============================] - 6s 99ms/step - loss: 0.0013\n",
      "Epoch 33/50\n",
      "59/59 [==============================] - 6s 99ms/step - loss: 0.0012\n",
      "Epoch 34/50\n",
      "59/59 [==============================] - 6s 101ms/step - loss: 0.0013\n",
      "Epoch 35/50\n",
      "59/59 [==============================] - 6s 95ms/step - loss: 0.0015\n",
      "Epoch 36/50\n",
      "59/59 [==============================] - 5s 90ms/step - loss: 0.0013\n",
      "Epoch 37/50\n",
      "59/59 [==============================] - 6s 96ms/step - loss: 0.0012\n",
      "Epoch 38/50\n",
      "59/59 [==============================] - 5s 90ms/step - loss: 0.0014\n",
      "Epoch 39/50\n",
      "59/59 [==============================] - 5s 91ms/step - loss: 0.0012\n",
      "Epoch 40/50\n",
      "59/59 [==============================] - 5s 91ms/step - loss: 0.0012\n",
      "Epoch 41/50\n",
      "59/59 [==============================] - 5s 90ms/step - loss: 0.0012\n",
      "Epoch 42/50\n",
      "59/59 [==============================] - 5s 90ms/step - loss: 0.0011\n",
      "Epoch 43/50\n",
      "59/59 [==============================] - 5s 90ms/step - loss: 0.0011\n",
      "Epoch 44/50\n",
      "59/59 [==============================] - 5s 90ms/step - loss: 0.0015\n",
      "Epoch 45/50\n",
      "59/59 [==============================] - 5s 91ms/step - loss: 0.0013\n",
      "Epoch 46/50\n",
      "59/59 [==============================] - 5s 91ms/step - loss: 0.0013\n",
      "Epoch 47/50\n",
      "59/59 [==============================] - 5s 92ms/step - loss: 0.0011\n",
      "Epoch 48/50\n",
      "59/59 [==============================] - 5s 90ms/step - loss: 0.0010\n",
      "Epoch 49/50\n",
      "59/59 [==============================] - 5s 90ms/step - loss: 0.0011\n",
      "Epoch 50/50\n",
      "59/59 [==============================] - 5s 92ms/step - loss: 0.0011\n"
     ]
    }
   ],
   "source": [
    "model.fit(x_train, y_train, epochs=50, batch_size=32)\n",
    "model.save('stock_prediction.h5')\n"
   ]
  },
  {
   "cell_type": "markdown",
   "metadata": {},
   "source": [
    "Every epoch refers to one cycle through the full training dataset, and batch size refers to the number of training examples utilized in one iteration."
   ]
  },
  {
   "cell_type": "code",
   "execution_count": 25,
   "metadata": {},
   "outputs": [],
   "source": [
    "model = load_model('stock_prediction.h5')"
   ]
  },
  {
   "cell_type": "markdown",
   "metadata": {},
   "source": [
    "## Result Visualization"
   ]
  },
  {
   "cell_type": "code",
   "execution_count": 26,
   "metadata": {},
   "outputs": [
    {
     "data": {
      "text/plain": [
       "<matplotlib.legend.Legend at 0x1cf32eda310>"
      ]
     },
     "execution_count": 26,
     "metadata": {},
     "output_type": "execute_result"
    },
    {
     "data": {
      "image/png": "[encoded data removed]",
      "text/plain": [
       "<Figure size 1152x576 with 1 Axes>"
      ]
     },
     "metadata": {
      "needs_background": "light"
     },
     "output_type": "display_data"
    }
   ],
   "source": [
    "predictions = model.predict(x_test)\n",
    "predictions = scaler.inverse_transform(predictions)\n",
    "y_test_scaled = scaler.inverse_transform(y_test.reshape(-1, 1))\n",
    "\n",
    "fig, ax = plt.subplots(figsize=(16,8))\n",
    "ax.set_facecolor('#000041')\n",
    "ax.plot(y_test_scaled, color='red', label='Original price')\n",
    "plt.plot(predictions, color='cyan', label='Predicted price')\n",
    "plt.legend()"
   ]
  },
  {
   "cell_type": "markdown",
   "metadata": {},
   "source": [
    "## Acknowledgements\n",
    "\n",
    "- [Building a Stock Price Predictor Using Python](https://www.section.io/engineering-education/stock-price-prediction-using-python/)"
   ]
  }
 ],
 "metadata": {
  "interpreter": {
   "hash": "ca96e8aae159194189f89da3aedb1d5bd36ddd3633dc1409b371335704aa4ee4"
  },
  "kernelspec": {
   "display_name": "Python 3.8.5 64-bit",
   "language": "python",
   "name": "python3"
  },
  "language_info": {
   "codemirror_mode": {
    "name": "ipython",
    "version": 3
   },
   "file_extension": ".py",
   "mimetype": "text/x-python",
   "name": "python",
   "nbconvert_exporter": "python",
   "pygments_lexer": "ipython3",
   "version": "3.8.5"
  },
  "orig_nbformat": 4
 },
 "nbformat": 4,
 "nbformat_minor": 2
}
